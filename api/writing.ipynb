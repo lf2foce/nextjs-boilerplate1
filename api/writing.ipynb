{
 "cells": [
  {
   "cell_type": "code",
   "execution_count": 6,
   "metadata": {},
   "outputs": [
    {
     "data": {
      "text/plain": [
       "True"
      ]
     },
     "execution_count": 6,
     "metadata": {},
     "output_type": "execute_result"
    }
   ],
   "source": [
    "from dotenv import load_dotenv\n",
    "import os \n",
    "load_dotenv()"
   ]
  },
  {
   "cell_type": "code",
   "execution_count": 7,
   "metadata": {},
   "outputs": [],
   "source": [
    "from fastapi import FastAPI, HTTPException\n",
    "import pandas as pd\n",
    "from pydantic import BaseModel\n",
    "from typing import Dict\n",
    "from openai import OpenAI\n",
    "\n",
    "\n",
    "\n",
    "client = OpenAI(\n",
    "    api_key=os.environ.get(\"OPENAI_API_KEY\"),  # This is the default and can be omitted\n",
    ")\n",
    "rubrics = {\n",
    "    \"task_response\": \"Evaluates how well the essay addresses the prompt and develops arguments.\",\n",
    "    \"coherence_cohesion\": \"Assesses logical flow, paragraphing, and use of linking words.\",\n",
    "    \"lexical_resource\": \"Measures vocabulary range and word choice.\",\n",
    "    \"grammar_accuracy\": \"Checks grammatical structures and sentence complexity.\"\n",
    "}\n",
    "\n",
    "class EssayRequest(BaseModel):\n",
    "    essay: str\n",
    "\n",
    "class EssayResponse(BaseModel):\n",
    "    scores: Dict[str, float]\n",
    "    feedback: Dict[str, str]\n",
    "\n",
    "def evaluate_essay(essay: EssayRequest):\n",
    "    # essay = request.essay\n",
    "    # if not essay:\n",
    "    #     raise HTTPException(status_code=400, detail=\"Essay cannot be empty\")\n",
    "    \n",
    "    try:\n",
    "        chat_completion = client.chat.completions.create(\n",
    "            model=\"gpt-4o\",\n",
    "            messages=[\n",
    "                {\"role\": \"system\", \"content\": \"You are an IELTS examiner. Evaluate the essay based on the IELTS scoring rubrics.\"},\n",
    "                {\"role\": \"user\", \"content\": f\"Essay: {essay}\\nEvaluate based on: {rubrics}\"}\n",
    "            ]\n",
    "        )\n",
    "        ai_output = chat_completion.choices[0].message.content\n",
    "        scores, feedback = parse_response(ai_output)\n",
    "        return EssayResponse(scores=scores, feedback=feedback)\n",
    "    except Exception as e:\n",
    "        raise HTTPException(status_code=500, detail=f\"Error processing essay: {str(e)}\")\n",
    "\n",
    "\n",
    "def parse_response(ai_output: str):\n",
    "    \"\"\"Parse AI output into scores and feedback.\"\"\"\n",
    "    scores = {\n",
    "        \"task_response\": 6.5,\n",
    "        \"coherence_cohesion\": 7.0,\n",
    "        \"lexical_resource\": 6.0,\n",
    "        \"grammar_accuracy\": 6.5\n",
    "    }\n",
    "    feedback = {\n",
    "        \"task_response\": \"Your argument is clear but lacks strong supporting details.\",\n",
    "        \"coherence_cohesion\": \"Good use of linking words, but some transitions are abrupt.\",\n",
    "        \"lexical_resource\": \"Vocabulary range is adequate but lacks variety.\",\n",
    "        \"grammar_accuracy\": \"Some grammatical errors, but overall readability is good.\"\n",
    "    }\n",
    "    return scores, feedback"
   ]
  },
  {
   "cell_type": "code",
   "execution_count": 8,
   "metadata": {},
   "outputs": [
    {
     "data": {
      "text/plain": [
       "EssayResponse(scores={'task_response': 6.5, 'coherence_cohesion': 7.0, 'lexical_resource': 6.0, 'grammar_accuracy': 6.5}, feedback={'task_response': 'Your argument is clear but lacks strong supporting details.', 'coherence_cohesion': 'Good use of linking words, but some transitions are abrupt.', 'lexical_resource': 'Vocabulary range is adequate but lacks variety.', 'grammar_accuracy': 'Some grammatical errors, but overall readability is good.'})"
      ]
     },
     "execution_count": 8,
     "metadata": {},
     "output_type": "execute_result"
    }
   ],
   "source": [
    "evaluate_essay('hello world')"
   ]
  },
  {
   "cell_type": "code",
   "execution_count": 9,
   "metadata": {},
   "outputs": [
    {
     "name": "stdout",
     "output_type": "stream",
     "text": [
      "steps=[Step(explanation='To find the overall IELTS band score, the sum of the four individual section scores is calculated.', output='Sum of scores: 7.5 + 6.5 + 8.0 + 7.0 = 29.0'), Step(explanation='The overall score is calculated by taking the average of the sum of the section scores. This is done by dividing the total sum by the number of sections, which is 4.', output='Average score: 29.0 / 4 = 7.25'), Step(explanation='The overall IELTS band score is rounded to the nearest whole or half band score. According to the rounding rules, scores ending in .25 are rounded up to the next half band.', output='Rounded score: 7.5')] final_band=7.5\n"
     ]
    }
   ],
   "source": [
    "# from pydantic import BaseModel, Field, conlist\n",
    "# from openai import OpenAI\n",
    "\n",
    "# client = OpenAI()\n",
    "\n",
    "# # Define Pydantic models\n",
    "# class Step(BaseModel):\n",
    "#     explanation: str\n",
    "#     output: str\n",
    "\n",
    "# class IELTSCalculation(BaseModel):\n",
    "#     steps: list[Step]\n",
    "#     final_band: float = Field(..., description=\"Final IELTS band score rounded according to IELTS rounding rules\")\n",
    "\n",
    "# # Function to calculate IELTS band\n",
    "# def calculate_ielts_band(scores: list[float]) -> float:\n",
    "#     average = sum(scores) / len(scores)\n",
    "#     rounded_band = round(average * 2) / 2  # IELTS rounding rule: nearest 0.5 increment\n",
    "#     return rounded_band\n",
    "\n",
    "# # Example input\n",
    "# scores = [7.5, 6.5, 8.0, 7.0]  # Listening, Reading, Writing, Speaking\n",
    "\n",
    "# # Generate steps\n",
    "# steps = [\n",
    "#     Step(explanation=\"Calculate the average score across four sections.\", output=str(sum(scores) / len(scores))),\n",
    "#     Step(explanation=\"Apply IELTS rounding rules (round to nearest 0.5).\", output=str(calculate_ielts_band(scores))),\n",
    "# ]\n",
    "\n",
    "# # Call OpenAI API\n",
    "# completion = client.beta.chat.completions.parse(\n",
    "#     model=\"gpt-4o-2024-08-06\",\n",
    "#     messages=[\n",
    "#         {\"role\": \"system\", \"content\": \"You are an IELTS scoring assistant. Calculate the IELTS band score step by step.\"},\n",
    "#         {\"role\": \"user\", \"content\": f\"Calculate the IELTS band score for the following section scores: {scores}\"}\n",
    "#     ],\n",
    "#     response_format=IELTSCalculation,\n",
    "# )\n",
    "\n",
    "# ielts_calculation = completion.choices[0].message.parsed\n",
    "\n",
    "# print(ielts_calculation)\n"
   ]
  },
  {
   "cell_type": "code",
   "execution_count": 20,
   "metadata": {},
   "outputs": [
    {
     "name": "stdout",
     "output_type": "stream",
     "text": [
      "{'choices': [{'message': {'parsed': {'word_count': 7, 'score': {'overall_band': 1.0, 'task_response': 1.0, 'coherence_and_cohesion': 1.0, 'lexical_resource': 1.0, 'grammatical_range_and_accuracy': 1.0}, 'feedback': {'task_response': 'The response does not address any task. It simply contains a greeting and an introduction, which is not appropriate for an IELTS essay. The essay task is not fulfilled at all.', 'coherence_and_cohesion': 'There are no structural elements of an essay present. The response does not exhibit any logical progression of ideas, paragraphs, or cohesive devices.', 'lexical_resource': 'The lexical resource is extremely limited, with only a simple greeting phrase and personal introduction. It does not demonstrate an ability to use a range of vocabulary.', 'grammatical_range_and_accuracy': 'The grammatical range is very limited, consisting only of a greeting and introduction. No attempts are made at complex or varied sentence structures.'}, 'suggestions': ['Review IELTS essay prompts and understand the type of responses required.', 'Learn to structure an essay with an introduction, body paragraphs, and a conclusion.', 'Expand your vocabulary to develop arguments and express ideas more effectively.', 'Practice using a variety of grammatical structures including complex and compound sentences.', 'Focus on developing coherent ideas and supporting them with evidence or examples.']}}}]}\n"
     ]
    }
   ],
   "source": [
    "from pydantic import BaseModel, Field\n",
    "from typing import List, Dict\n",
    "import math\n",
    "from openai import OpenAI\n",
    "\n",
    "client = OpenAI()\n",
    "\n",
    "# Define Pydantic models\n",
    "class Score(BaseModel):\n",
    "    overall_band: float\n",
    "    task_response: float\n",
    "    coherence_and_cohesion: float\n",
    "    lexical_resource: float\n",
    "    grammatical_range_and_accuracy: float\n",
    "\n",
    "class Feedback(BaseModel):\n",
    "    task_response: str\n",
    "    coherence_and_cohesion: str\n",
    "    lexical_resource: str\n",
    "    grammatical_range_and_accuracy: str\n",
    "\n",
    "class IELTSWritingEvaluation(BaseModel):\n",
    "    word_count: int\n",
    "    score: Score\n",
    "    feedback: Feedback\n",
    "    suggestions: List[str]\n",
    "\n",
    "    @classmethod\n",
    "    def from_essay(\n",
    "        cls, \n",
    "        essay_text: str, \n",
    "        scores: Dict[str, float], \n",
    "        feedback: Dict[str, str], \n",
    "        suggestions: List[str]\n",
    "    ) -> \"IELTSWritingEvaluation\":\n",
    "        \"\"\"Factory method to compute word count and overall band dynamically\"\"\"\n",
    "        word_count = len(essay_text.split())\n",
    "\n",
    "        # Compute overall band score using IELTS rounding rules\n",
    "        avg_score = sum(scores.values()) / len(scores)\n",
    "        decimal_part = avg_score - math.floor(avg_score)\n",
    "\n",
    "        if decimal_part < 0.25:\n",
    "            overall_band = math.floor(avg_score)\n",
    "        elif decimal_part >= 0.75:\n",
    "            overall_band = math.ceil(avg_score)\n",
    "        else:\n",
    "            overall_band = math.floor(avg_score) + 0.5\n",
    "\n",
    "        return cls(\n",
    "            word_count=word_count,\n",
    "            score=Score(overall_band=overall_band, **scores),\n",
    "            feedback=Feedback(**feedback),\n",
    "            suggestions=suggestions\n",
    "        )\n",
    "\n",
    "# Example essay input\n",
    "# essay_text = \"\"\"In modern society, the use of technology has greatly influenced the way people communicate. \n",
    "# While some argue that it has improved connections, others believe it has led to a decline in face-to-face interactions. \n",
    "# In my opinion, although technology has enhanced global communication, it has also contributed to social isolation in some cases.\n",
    "# One significant advantage of technology is its ability to connect people across the world. \n",
    "# With the rise of social media and instant messaging, individuals can stay in touch regardless of geographical barriers. \n",
    "# For example, many people maintain friendships and professional relationships through platforms like WhatsApp and LinkedIn. \n",
    "# However, excessive reliance on digital communication has reduced in-person conversations. \n",
    "# Many individuals, especially younger generations, prefer texting over talking in real life, which may weaken social bonds.\n",
    "# To conclude, while technology has bridged communication gaps on a global scale, it is essential to balance online and offline interactions. \n",
    "# People should make conscious efforts to engage in face-to-face conversations to maintain strong social relationships.\"\"\"\n",
    "\n",
    "essay_text = \"nice to meet you, I am anh\"\n",
    "\n",
    "# Call OpenAI API for scoring, feedback, and suggestions\n",
    "completion = client.beta.chat.completions.parse(\n",
    "    model=\"gpt-4o-2024-08-06\",\n",
    "    messages=[\n",
    "        {\"role\": \"system\", \"content\": \"You are an IELTS writing evaluator. Analyze the essay and provide structured scores, feedback, and suggestions.\"},\n",
    "        {\"role\": \"user\", \"content\": f\"Evaluate the following IELTS essay:\\n{essay_text}\"}\n",
    "    ],\n",
    "    response_format=IELTSWritingEvaluation,\n",
    ")\n",
    "\n",
    "ielts_result = completion.choices[0].message.parsed\n",
    "\n",
    "# Construct final response\n",
    "response = {\n",
    "    \"choices\": [\n",
    "        {\n",
    "            \"message\": {\n",
    "                \"parsed\": ielts_result.model_dump()\n",
    "            }\n",
    "        }\n",
    "    ]\n",
    "}\n",
    "\n",
    "print(response)\n"
   ]
  },
  {
   "cell_type": "code",
   "execution_count": 21,
   "metadata": {},
   "outputs": [
    {
     "data": {
      "text/plain": [
       "{'choices': [{'message': {'parsed': {'word_count': 7,\n",
       "     'score': {'overall_band': 1.0,\n",
       "      'task_response': 1.0,\n",
       "      'coherence_and_cohesion': 1.0,\n",
       "      'lexical_resource': 1.0,\n",
       "      'grammatical_range_and_accuracy': 1.0},\n",
       "     'feedback': {'task_response': 'The response does not address any task. It simply contains a greeting and an introduction, which is not appropriate for an IELTS essay. The essay task is not fulfilled at all.',\n",
       "      'coherence_and_cohesion': 'There are no structural elements of an essay present. The response does not exhibit any logical progression of ideas, paragraphs, or cohesive devices.',\n",
       "      'lexical_resource': 'The lexical resource is extremely limited, with only a simple greeting phrase and personal introduction. It does not demonstrate an ability to use a range of vocabulary.',\n",
       "      'grammatical_range_and_accuracy': 'The grammatical range is very limited, consisting only of a greeting and introduction. No attempts are made at complex or varied sentence structures.'},\n",
       "     'suggestions': ['Review IELTS essay prompts and understand the type of responses required.',\n",
       "      'Learn to structure an essay with an introduction, body paragraphs, and a conclusion.',\n",
       "      'Expand your vocabulary to develop arguments and express ideas more effectively.',\n",
       "      'Practice using a variety of grammatical structures including complex and compound sentences.',\n",
       "      'Focus on developing coherent ideas and supporting them with evidence or examples.']}}}]}"
      ]
     },
     "execution_count": 21,
     "metadata": {},
     "output_type": "execute_result"
    }
   ],
   "source": [
    "response"
   ]
  },
  {
   "cell_type": "code",
   "execution_count": null,
   "metadata": {},
   "outputs": [],
   "source": [
    "vision_response =  client.beta.chat.completions.parse(\n",
    "            model=\"gpt-4o-mini\",\n",
    "            messages=[\n",
    "                {\"role\": \"system\", \"content\": \"\"\"You are an advanced IELTS evaluator specializing in text extraction from images.\n",
    "                Your task is to accurately extract the IELTS Writing Task 2 topic and essay\n",
    "                from the provided image, ensuring the response follows a strict JSON format with No additional explanations, comments, or formatting outside of JSON \"\"\"},\n",
    "                {\"role\": \"user\", \"content\": [\n",
    "                    {\"type\": \"text\", \"text\": \"\"\"\"Analyze the provided image and extract:\\n\"\n",
    "                        1. The **IELTS Writing Task 2 topic** (if explicitly present in the image).\\n\n",
    "                        2. The **full essay response** (ensuring all text is captured accurately).\\n\\n\n",
    "                        If the topic is **not explicitly stated**, generate a best-fit topic based on the essay content.\\n\\n\n",
    "                        Strictly return JSON format **without markdown or extra text**:\\n\n",
    "                        {\\n\n",
    "                          \\topic\\: \\Extracted topic here\\,\\n\n",
    "                          \\essay\\: \\Extracted essay text here\\\\n\n",
    "                        }\\n\\n\n",
    "                        \n",
    "                        rule:\\n\n",
    "                        - No additional explanations, comments, or formatting outside of JSON.\\n\n",
    "                        - The topic is concise and relevant.\\n\n",
    "                        - The essay is fully extracted without truncation.\n",
    "                     \"\"\"},\n",
    "                    {\"type\": \"image_url\", \"image_url\": {\"url\": f\"data:image/jpeg;base64,{base64_image}\"}},\n",
    "                ]}\n",
    "            ]\n",
    "        )"
   ]
  }
 ],
 "metadata": {
  "kernelspec": {
   "display_name": "ab312",
   "language": "python",
   "name": "python3"
  },
  "language_info": {
   "codemirror_mode": {
    "name": "ipython",
    "version": 3
   },
   "file_extension": ".py",
   "mimetype": "text/x-python",
   "name": "python",
   "nbconvert_exporter": "python",
   "pygments_lexer": "ipython3",
   "version": "3.12.7"
  }
 },
 "nbformat": 4,
 "nbformat_minor": 2
}
